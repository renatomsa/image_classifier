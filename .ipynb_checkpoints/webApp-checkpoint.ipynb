{
 "cells": [
  {
   "cell_type": "markdown",
   "id": "bc83307a",
   "metadata": {},
   "source": [
    "# **Last English Project**\n",
    "### Recognizing images:\n",
    "\n",
    "*   Shark;\n",
    "*   Hummingbird;\n",
    "*   Tiger."
   ]
  },
  {
   "cell_type": "code",
   "execution_count": null,
   "id": "fc837182",
   "metadata": {},
   "outputs": [],
   "source": [
    "#! [ -e /content ] & pip install -Uqq fastbook"
   ]
  },
  {
   "cell_type": "code",
   "execution_count": null,
   "id": "1ccd479d",
   "metadata": {},
   "outputs": [],
   "source": [
    "from fastbook import *\n",
    "from fastai.vision.widgets import *"
   ]
  },
  {
   "cell_type": "markdown",
   "id": "e1f6b4b9",
   "metadata": {},
   "source": [
    "## **Importing .pkl file**"
   ]
  },
  {
   "cell_type": "markdown",
   "id": "7635a0dd",
   "metadata": {},
   "source": [
    "Importing the .pkl file that was acquired by Image Classifier"
   ]
  },
  {
   "cell_type": "code",
   "execution_count": null,
   "id": "10d53290",
   "metadata": {},
   "outputs": [],
   "source": [
    "path = Path()\n",
    "learn_inf = load_learner(path/'export.pkl')"
   ]
  },
  {
   "cell_type": "markdown",
   "id": "13a2f9ff",
   "metadata": {},
   "source": [
    "# **Creating the GUI with ipywidgets**"
   ]
  },
  {
   "cell_type": "markdown",
   "id": "8c4b9d4d",
   "metadata": {},
   "source": [
    "Initializing widgets:\n",
    "```\n",
    "  upload = widgets.FileUpload()\n",
    "  output = widgets.Output()\n",
    "  label = widgets.L\n",
    "```"
   ]
  },
  {
   "cell_type": "code",
   "execution_count": null,
   "id": "8bfb12ac",
   "metadata": {},
   "outputs": [],
   "source": [
    "upload = widgets.FileUpload()\n",
    "output = widgets.Output()\n",
    "label = widgets.Label()"
   ]
  },
  {
   "cell_type": "markdown",
   "id": "e541a5ca",
   "metadata": {},
   "source": [
    "Create an observer that verify the last element of ```upload.data``` and change the output for every new element uploaded:\n",
    "```\n",
    "  def data_change(img_input):\n",
    "      img = PILImage.create(upload.data[-1])\n",
    "      output.clear_output()\n",
    "      with output:\n",
    "          display(img.to_thumb(256, 256))\n",
    "      label_pred, index_pred, prob = learn_inf.predict(img)\n",
    "      label.value = f\"The model's guess with {prob[index_pred]*100:.02f}% of confidence is: {label_pred}\"    \n",
    "  upload.observe(data_change, names=['data'])\n",
    "```"
   ]
  },
  {
   "cell_type": "code",
   "execution_count": null,
   "id": "0d4da758",
   "metadata": {},
   "outputs": [],
   "source": [
    "def data_change(img_input):\n",
    "    img = PILImage.create(upload.data[-1])\n",
    "    output.clear_output()\n",
    "    with output:\n",
    "        display(img.to_thumb(256, 256))\n",
    "    label_pred, index_pred, prob = learn_inf.predict(img)\n",
    "    label.value = f\"Predict: {label_pred} / Confidence: {prob[index_pred]*100:.02f}%\"    \n",
    "upload.observe(data_change, names=['data'])\n"
   ]
  },
  {
   "cell_type": "markdown",
   "id": "ca69a594",
   "metadata": {},
   "source": [
    "# **Shark, Hummingbird or Tiger?**"
   ]
  },
  {
   "cell_type": "code",
   "execution_count": null,
   "id": "aa3e0007",
   "metadata": {},
   "outputs": [],
   "source": [
    "box = widgets.VBox([upload, output, label])\n",
    "display(box)"
   ]
  }
 ],
 "metadata": {
  "kernelspec": {
   "display_name": "fastai",
   "language": "python",
   "name": "fastai"
  },
  "language_info": {
   "codemirror_mode": {
    "name": "ipython",
    "version": 3
   },
   "file_extension": ".py",
   "mimetype": "text/x-python",
   "name": "python",
   "nbconvert_exporter": "python",
   "pygments_lexer": "ipython3",
   "version": "3.10.9"
  }
 },
 "nbformat": 4,
 "nbformat_minor": 5
}
